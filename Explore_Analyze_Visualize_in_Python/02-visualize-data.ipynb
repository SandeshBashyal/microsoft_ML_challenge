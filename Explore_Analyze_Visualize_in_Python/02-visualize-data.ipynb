{
  "cells": [
    {
      "cell_type": "markdown",
      "source": [
        "# Exploring data with Python - visualize data\n",
        "\n",
        "In this notebook, we'll apply a few techniques to analyze data with basic statistics and visualize it using graphs.\n",
        "\n",
        "## Loading our data\n",
        "\n",
        "Before we begin, let's load the same data about study hours that we analyzed in the previous notebook. We'll also recalculate who passed the class in the same way as last time.\n",
        "\n",
        "Run the code in the cell below by clicking the **&#9658; Run** button to see the data."
      ],
      "metadata": {}
    },
    {
      "cell_type": "code",
      "source": [
        "import pandas as pd\n",
        "\n",
        "# Load data from a text file\n",
        "!wget https://raw.githubusercontent.com/MicrosoftDocs/mslearn-introduction-to-machine-learning/main/Data/ml-basics/grades.csv\n",
        "df_students = pd.read_csv('grades.csv',delimiter=',',header='infer')\n",
        "\n",
        "# Remove any rows with missing data\n",
        "df_students = df_students.dropna(axis=0, how='any')\n",
        "\n",
        "# Calculate who passed, assuming '60' is the grade needed to pass\n",
        "passes  = pd.Series(df_students['Grade'] >= 60)\n",
        "\n",
        "# Save who passed to the Pandas dataframe\n",
        "df_students = pd.concat([df_students, passes.rename(\"Pass\")], axis=1)\n",
        "\n",
        "\n",
        "# Print the result out into this notebook\n",
        "df_students "
      ],
      "outputs": [
        {
          "output_type": "stream",
          "name": "stdout",
          "text": "--2023-08-01 03:02:56--  https://raw.githubusercontent.com/MicrosoftDocs/mslearn-introduction-to-machine-learning/main/Data/ml-basics/grades.csv\r\nResolving raw.githubusercontent.com (raw.githubusercontent.com)... 185.199.109.133, 185.199.108.133, 185.199.111.133, ...\r\nConnecting to raw.githubusercontent.com (raw.githubusercontent.com)|185.199.109.133|:443... connected.\r\nHTTP request sent, awaiting response... 200 OK\r\nLength: 322 [text/plain]\r\nSaving to: ‘grades.csv.2’\r\n\r\n\rgrades.csv.2          0%[                    ]       0  --.-KB/s               \rgrades.csv.2        100%[===================>]     322  --.-KB/s    in 0s      \r\n\r\n2023-08-01 03:02:57 (17.8 MB/s) - ‘grades.csv.2’ saved [322/322]\r\n\r\n"
        },
        {
          "output_type": "execute_result",
          "execution_count": 1,
          "data": {
            "text/plain": "         Name  StudyHours  Grade   Pass\n0         Dan       10.00   50.0  False\n1       Joann       11.50   50.0  False\n2       Pedro        9.00   47.0  False\n3       Rosie       16.00   97.0   True\n4       Ethan        9.25   49.0  False\n5       Vicky        1.00    3.0  False\n6    Frederic       11.50   53.0  False\n7      Jimmie        9.00   42.0  False\n8      Rhonda        8.50   26.0  False\n9    Giovanni       14.50   74.0   True\n10  Francesca       15.50   82.0   True\n11      Rajab       13.75   62.0   True\n12    Naiyana        9.00   37.0  False\n13       Kian        8.00   15.0  False\n14      Jenny       15.50   70.0   True\n15     Jakeem        8.00   27.0  False\n16     Helena        9.00   36.0  False\n17      Ismat        6.00   35.0  False\n18      Anila       10.00   48.0  False\n19       Skye       12.00   52.0  False\n20     Daniel       12.50   63.0   True\n21      Aisha       12.00   64.0   True",
            "text/html": "<div>\n<style scoped>\n    .dataframe tbody tr th:only-of-type {\n        vertical-align: middle;\n    }\n\n    .dataframe tbody tr th {\n        vertical-align: top;\n    }\n\n    .dataframe thead th {\n        text-align: right;\n    }\n</style>\n<table border=\"1\" class=\"dataframe\">\n  <thead>\n    <tr style=\"text-align: right;\">\n      <th></th>\n      <th>Name</th>\n      <th>StudyHours</th>\n      <th>Grade</th>\n      <th>Pass</th>\n    </tr>\n  </thead>\n  <tbody>\n    <tr>\n      <th>0</th>\n      <td>Dan</td>\n      <td>10.00</td>\n      <td>50.0</td>\n      <td>False</td>\n    </tr>\n    <tr>\n      <th>1</th>\n      <td>Joann</td>\n      <td>11.50</td>\n      <td>50.0</td>\n      <td>False</td>\n    </tr>\n    <tr>\n      <th>2</th>\n      <td>Pedro</td>\n      <td>9.00</td>\n      <td>47.0</td>\n      <td>False</td>\n    </tr>\n    <tr>\n      <th>3</th>\n      <td>Rosie</td>\n      <td>16.00</td>\n      <td>97.0</td>\n      <td>True</td>\n    </tr>\n    <tr>\n      <th>4</th>\n      <td>Ethan</td>\n      <td>9.25</td>\n      <td>49.0</td>\n      <td>False</td>\n    </tr>\n    <tr>\n      <th>5</th>\n      <td>Vicky</td>\n      <td>1.00</td>\n      <td>3.0</td>\n      <td>False</td>\n    </tr>\n    <tr>\n      <th>6</th>\n      <td>Frederic</td>\n      <td>11.50</td>\n      <td>53.0</td>\n      <td>False</td>\n    </tr>\n    <tr>\n      <th>7</th>\n      <td>Jimmie</td>\n      <td>9.00</td>\n      <td>42.0</td>\n      <td>False</td>\n    </tr>\n    <tr>\n      <th>8</th>\n      <td>Rhonda</td>\n      <td>8.50</td>\n      <td>26.0</td>\n      <td>False</td>\n    </tr>\n    <tr>\n      <th>9</th>\n      <td>Giovanni</td>\n      <td>14.50</td>\n      <td>74.0</td>\n      <td>True</td>\n    </tr>\n    <tr>\n      <th>10</th>\n      <td>Francesca</td>\n      <td>15.50</td>\n      <td>82.0</td>\n      <td>True</td>\n    </tr>\n    <tr>\n      <th>11</th>\n      <td>Rajab</td>\n      <td>13.75</td>\n      <td>62.0</td>\n      <td>True</td>\n    </tr>\n    <tr>\n      <th>12</th>\n      <td>Naiyana</td>\n      <td>9.00</td>\n      <td>37.0</td>\n      <td>False</td>\n    </tr>\n    <tr>\n      <th>13</th>\n      <td>Kian</td>\n      <td>8.00</td>\n      <td>15.0</td>\n      <td>False</td>\n    </tr>\n    <tr>\n      <th>14</th>\n      <td>Jenny</td>\n      <td>15.50</td>\n      <td>70.0</td>\n      <td>True</td>\n    </tr>\n    <tr>\n      <th>15</th>\n      <td>Jakeem</td>\n      <td>8.00</td>\n      <td>27.0</td>\n      <td>False</td>\n    </tr>\n    <tr>\n      <th>16</th>\n      <td>Helena</td>\n      <td>9.00</td>\n      <td>36.0</td>\n      <td>False</td>\n    </tr>\n    <tr>\n      <th>17</th>\n      <td>Ismat</td>\n      <td>6.00</td>\n      <td>35.0</td>\n      <td>False</td>\n    </tr>\n    <tr>\n      <th>18</th>\n      <td>Anila</td>\n      <td>10.00</td>\n      <td>48.0</td>\n      <td>False</td>\n    </tr>\n    <tr>\n      <th>19</th>\n      <td>Skye</td>\n      <td>12.00</td>\n      <td>52.0</td>\n      <td>False</td>\n    </tr>\n    <tr>\n      <th>20</th>\n      <td>Daniel</td>\n      <td>12.50</td>\n      <td>63.0</td>\n      <td>True</td>\n    </tr>\n    <tr>\n      <th>21</th>\n      <td>Aisha</td>\n      <td>12.00</td>\n      <td>64.0</td>\n      <td>True</td>\n    </tr>\n  </tbody>\n</table>\n</div>"
          },
          "metadata": {}
        }
      ],
      "execution_count": 1,
      "metadata": {}
    },
    {
      "cell_type": "markdown",
      "source": [
        "## Visualizing data with Matplotlib\n",
        "\n",
        "DataFrames provide a great way to explore and analyze tabular data, but sometimes a picture is worth a thousand rows and columns. The **Matplotlib** library provides the foundation for plotting data visualizations that can greatly enhance your ability to analyze the data.\n",
        "\n",
        "Let's start with a simple bar chart that shows the grade of each student.\n",
        "\n",
        "**Note**: This first graph may take 1 to 2 minutes to render. Subsequent graphs will render more quickly."
      ],
      "metadata": {}
    },
    {
      "cell_type": "code",
      "source": [
        "# Ensure plots are displayed inline in the notebook\n",
        "%matplotlib inline\n",
        "\n",
        "from matplotlib import pyplot as plt\n",
        "\n",
        "# Create a bar plot of name vs grade\n",
        "plt.bar(x=df_students.Name, height=df_students.Grade)\n",
        "\n",
        "# Display the plot\n",
        "plt.show()"
      ],
      "outputs": [
        {
          "output_type": "stream",
          "name": "stderr",
          "text": "Matplotlib is building the font cache using fc-list. This may take a moment.\n"
        }
      ],
      "execution_count": 2,
      "metadata": {}
    },
    {
      "cell_type": "markdown",
      "source": [
        "Well, that worked, but the chart could use some improvements to make it clearer what we're looking at.\n",
        "\n",
        "Note that you used the **pyplot** class from Matplotlib to plot the chart. This class provides many ways to improve the visual elements of the plot. For example, the following code:\n",
        "\n",
        "- Specifies the color of the bar chart.\n",
        "- Adds a title to the chart (so we know what it represents)\n",
        "- Adds labels to the X and Y axes (so we know which axis shows which data)\n",
        "- Adds a grid (to make it easier to determine the values for the bars)\n",
        "- Rotates the X markers (so we can read them)"
      ],
      "metadata": {}
    },
    {
      "cell_type": "code",
      "source": [
        "# Create a bar plot of name vs grade\n",
        "plt.bar(x=df_students.Name, height=df_students.Grade, color='orange')\n",
        "\n",
        "# Customize the chart\n",
        "plt.title('Student Grades')\n",
        "plt.xlabel('Student')\n",
        "plt.ylabel('Grade')\n",
        "plt.grid(color='#95a5a6', linestyle='--', linewidth=2, axis='y', alpha=0.7)\n",
        "plt.xticks(rotation=90)\n",
        "\n",
        "# Display the plot\n",
        "plt.show()"
      ],
      "outputs": [],
      "execution_count": null,
      "metadata": {}
    },
    {
      "cell_type": "markdown",
      "source": [
        "A plot is technically contained within a **Figure**. In the previous examples, the figure was created implicitly for you, but you can create it explicitly. For example, the following code creates a figure with a specific size."
      ],
      "metadata": {}
    },
    {
      "cell_type": "code",
      "source": [
        "# Create a Figure\n",
        "fig = plt.figure(figsize=(8,3))\n",
        "\n",
        "# Create a bar plot of name vs grade\n",
        "plt.bar(x=df_students.Name, height=df_students.Grade, color='orange')\n",
        "\n",
        "# Customize the chart\n",
        "plt.title('Student Grades')\n",
        "plt.xlabel('Student')\n",
        "plt.ylabel('Grade')\n",
        "plt.grid(color='#95a5a6', linestyle='--', linewidth=2, axis='y', alpha=0.7)\n",
        "plt.xticks(rotation=90)\n",
        "\n",
        "# Show the figure\n",
        "plt.show()"
      ],
      "outputs": [],
      "execution_count": null,
      "metadata": {}
    },
    {
      "cell_type": "markdown",
      "source": [
        "A figure can contain multiple subplots, each on its own *axis*.\n",
        "\n",
        "For example, the following code creates a figure with two subplots: one is a bar chart showing student grades, and the other is a pie chart comparing the number of passing grades to non-passing grades."
      ],
      "metadata": {}
    },
    {
      "cell_type": "code",
      "source": [
        "# Create a figure for 2 subplots (1 row, 2 columns)\n",
        "fig, ax = plt.subplots(1, 2, figsize = (10,4))\n",
        "\n",
        "# Create a bar plot of name vs grade on the first axis\n",
        "ax[0].bar(x=df_students.Name, height=df_students.Grade, color='orange')\n",
        "ax[0].set_title('Grades')\n",
        "ax[0].set_xticklabels(df_students.Name, rotation=90)\n",
        "\n",
        "# Create a pie chart of pass counts on the second axis\n",
        "pass_counts = df_students['Pass'].value_counts()\n",
        "ax[1].pie(pass_counts, labels=pass_counts)\n",
        "ax[1].set_title('Passing Grades')\n",
        "ax[1].legend(pass_counts.keys().tolist())\n",
        "\n",
        "# Add a title to the Figure\n",
        "fig.suptitle('Student Data')\n",
        "\n",
        "# Show the figure\n",
        "fig.show()"
      ],
      "outputs": [],
      "execution_count": null,
      "metadata": {}
    },
    {
      "cell_type": "markdown",
      "source": [
        "Until now, you've used methods of the `Matplotlib.pyplot` object to plot charts. However, Matplotlib is so foundational to graphics in Python that many packages, including Pandas, provide methods that abstract the underlying Matplotlib functions and simplify plotting. For example, the DataFrame provides its own methods for plotting data as shown in the following example, which plots a bar chart of study hours."
      ],
      "metadata": {}
    },
    {
      "cell_type": "code",
      "source": [
        "df_students.plot.bar(x='Name', y='StudyHours', color='teal', figsize=(6,4))"
      ],
      "outputs": [],
      "execution_count": null,
      "metadata": {}
    },
    {
      "cell_type": "markdown",
      "source": [
        "## Getting started with statistical analysis\n",
        "\n",
        "Now that you know how to use Python to manipulate and visualize data, you can start analyzing it.\n",
        "\n",
        "A lot of data science is rooted in *statistics*, so we'll explore some basic statistical techniques.\n",
        "\n",
        "> **Note**: This section is <u>not</u> intended to teach you statistics&#8212;that's much too big a topic for this notebook. It will however introduce you to some statistical concepts and techniques that data scientists use as they explore data in preparation for machine learning modeling.\n",
        "\n",
        "### Descriptive statistics and data distribution\n",
        "\n",
        "When examining a *variable* (for example, a sample of student grades), data scientists are particularly interested in its *distribution* (in other words, how are all the different grade values spread across the sample). The starting point for this exploration is often to visualize the data as a histogram and see how frequently each value for the variable occurs.\n",
        "\n",
        "\n",
        "\n",
        "\n"
      ],
      "metadata": {}
    },
    {
      "cell_type": "code",
      "source": [
        "# Get the variable to examine\n",
        "var_data = df_students['Grade']\n",
        "\n",
        "# Create a Figure\n",
        "fig = plt.figure(figsize=(10,4))\n",
        "\n",
        "# Plot a histogram\n",
        "plt.hist(var_data)\n",
        "\n",
        "# Add titles and labels\n",
        "plt.title('Data Distribution')\n",
        "plt.xlabel('Value')\n",
        "plt.ylabel('Frequency')\n",
        "\n",
        "# Show the figure\n",
        "fig.show()"
      ],
      "outputs": [],
      "execution_count": null,
      "metadata": {}
    },
    {
      "cell_type": "markdown",
      "source": [
        "The histogram for grades is a symmetric shape, where the most frequently occurring grades tend to be in the middle of the range (around 50), with fewer grades at the extreme ends of the scale.\n",
        "\n",
        "#### Measures of central tendency\n",
        "\n",
        "To understand the distribution better, we can examine so-called *measures of central tendency*, which is a fancy way of describing statistics that represent the \"middle\" of the data. The goal of this analysis is to try to find a \"typical\" value. Common ways to define the middle of the data include:\n",
        "\n",
        "- The *mean*: A simple average based on adding together all of the values in the sample set and then dividing the total by the number of samples.\n",
        "- The *median*: The value in the middle of the range of all of the sample values.\n",
        "- The *mode*: The most commonly occurring value in the sample set<sup>\\*</sup>.\n",
        "\n",
        "Let's calculate these values, along with the minimum and maximum values for comparison, and show them on the histogram.\n",
        "\n",
        "> <sup>\\*</sup>Of course, in some sample sets, there may be a tie for the most common value. In those cases, the dataset is described as *bimodal* or even *multimodal*."
      ],
      "metadata": {}
    },
    {
      "cell_type": "code",
      "source": [
        "# Get the variable to examine\n",
        "var = df_students['Grade']\n",
        "\n",
        "# Get statistics\n",
        "min_val = var.min()\n",
        "max_val = var.max()\n",
        "mean_val = var.mean()\n",
        "med_val = var.median()\n",
        "mod_val = var.mode()[0]\n",
        "\n",
        "print('Minimum:{:.2f}\\nMean:{:.2f}\\nMedian:{:.2f}\\nMode:{:.2f}\\nMaximum:{:.2f}\\n'.format(min_val,\n",
        "                                                                                        mean_val,\n",
        "                                                                                        med_val,\n",
        "                                                                                        mod_val,\n",
        "                                                                                        max_val))\n",
        "\n",
        "# Create a Figure\n",
        "fig = plt.figure(figsize=(10,4))\n",
        "\n",
        "# Plot a histogram\n",
        "plt.hist(var)\n",
        "\n",
        "# Add lines for the statistics\n",
        "plt.axvline(x=min_val, color = 'gray', linestyle='dashed', linewidth = 2)\n",
        "plt.axvline(x=mean_val, color = 'cyan', linestyle='dashed', linewidth = 2)\n",
        "plt.axvline(x=med_val, color = 'red', linestyle='dashed', linewidth = 2)\n",
        "plt.axvline(x=mod_val, color = 'yellow', linestyle='dashed', linewidth = 2)\n",
        "plt.axvline(x=max_val, color = 'gray', linestyle='dashed', linewidth = 2)\n",
        "\n",
        "# Add titles and labels\n",
        "plt.title('Data Distribution')\n",
        "plt.xlabel('Value')\n",
        "plt.ylabel('Frequency')\n",
        "\n",
        "# Show the figure\n",
        "fig.show()"
      ],
      "outputs": [],
      "execution_count": null,
      "metadata": {
        "tags": []
      }
    },
    {
      "cell_type": "markdown",
      "source": [
        "For the grade data, the mean, median, and mode all seem to be more or less in the middle of the minimum and maximum, at around 50.\n",
        "\n",
        "Another way to visualize the distribution of a variable is to use a *box* plot (sometimes called a *box-and-whiskers* plot). Let's create one for the grade data."
      ],
      "metadata": {}
    },
    {
      "cell_type": "code",
      "source": [
        "# Get the variable to examine\n",
        "var = df_students['Grade']\n",
        "\n",
        "# Create a Figure\n",
        "fig = plt.figure(figsize=(10,4))\n",
        "\n",
        "# Plot a histogram\n",
        "plt.boxplot(var)\n",
        "\n",
        "# Add titles and labels\n",
        "plt.title('Data Distribution')\n",
        "\n",
        "# Show the figure\n",
        "fig.show()"
      ],
      "outputs": [],
      "execution_count": null,
      "metadata": {}
    },
    {
      "cell_type": "markdown",
      "source": [
        "The box plot shows the distribution of the grade values in a format different from the histogram. The *box* part of the plot shows where the inner two *quartiles* of the data reside. In this case, half of the grades are between approximately 36 and 63. The *whiskers* extending from the box show the outer two quartiles, so the other half of the grades in this case are between 0 and 36 or 63 and 100. The line in the box indicates the *median* value.\n",
        "\n",
        "For learning, it can be useful to combine histograms and box plots, with the box plot's orientation changed to align it with the histogram. (In some ways, it can be helpful to think of the histogram as a \"front elevation\" view of the distribution, and the box plot as a \"plan\" view of the distribution from above.)"
      ],
      "metadata": {}
    },
    {
      "cell_type": "code",
      "source": [
        "# Create a function that we can re-use\n",
        "def show_distribution(var_data):\n",
        "    from matplotlib import pyplot as plt\n",
        "\n",
        "    # Get statistics\n",
        "    min_val = var_data.min()\n",
        "    max_val = var_data.max()\n",
        "    mean_val = var_data.mean()\n",
        "    med_val = var_data.median()\n",
        "    mod_val = var_data.mode()[0]\n",
        "\n",
        "    print('Minimum:{:.2f}\\nMean:{:.2f}\\nMedian:{:.2f}\\nMode:{:.2f}\\nMaximum:{:.2f}\\n'.format(min_val,\n",
        "                                                                                            mean_val,\n",
        "                                                                                            med_val,\n",
        "                                                                                            mod_val,\n",
        "                                                                                            max_val))\n",
        "\n",
        "    # Create a figure for 2 subplots (2 rows, 1 column)\n",
        "    fig, ax = plt.subplots(2, 1, figsize = (10,4))\n",
        "\n",
        "    # Plot the histogram   \n",
        "    ax[0].hist(var_data)\n",
        "    ax[0].set_ylabel('Frequency')\n",
        "\n",
        "    # Add lines for the mean, median, and mode\n",
        "    ax[0].axvline(x=min_val, color = 'gray', linestyle='dashed', linewidth = 2)\n",
        "    ax[0].axvline(x=mean_val, color = 'cyan', linestyle='dashed', linewidth = 2)\n",
        "    ax[0].axvline(x=med_val, color = 'red', linestyle='dashed', linewidth = 2)\n",
        "    ax[0].axvline(x=mod_val, color = 'yellow', linestyle='dashed', linewidth = 2)\n",
        "    ax[0].axvline(x=max_val, color = 'gray', linestyle='dashed', linewidth = 2)\n",
        "\n",
        "    # Plot the boxplot   \n",
        "    ax[1].boxplot(var_data, vert=False)\n",
        "    ax[1].set_xlabel('Value')\n",
        "\n",
        "    # Add a title to the Figure\n",
        "    fig.suptitle('Data Distribution')\n",
        "\n",
        "    # Show the figure\n",
        "    fig.show()\n",
        "\n",
        "# Get the variable to examine\n",
        "col = df_students['Grade']\n",
        "# Call the function\n",
        "show_distribution(col)"
      ],
      "outputs": [],
      "execution_count": null,
      "metadata": {
        "tags": []
      }
    },
    {
      "cell_type": "markdown",
      "source": [
        "All of the measurements of central tendency are right in the middle of the data distribution, which is symmetric with values becoming progressively lower in both directions from the middle.\n",
        "\n",
        "To explore this distribution in more detail, you need to understand that statistics is fundamentally about taking *samples* of data and using probability functions to extrapolate information about the full *population* of data.\n",
        "\n",
        "What does this mean? *Samples* refer to the data we have on hand, such as information about these 22 students' study habits and grades. The *population* refers to all possible data we could collect, such as every student's grades and study habits across every educational institution throughout the history of time. Usually we're interested in the population, but it's simply not practical to collect all of that data. Instead, we need to try estimate what the population is like from the small amount of data (samples) that we have.\n",
        "\n",
        "If we have enough samples, we can calculate something called a *probability density function*, which estimates the distribution of grades for the full population.\n",
        "\n",
        "The **pyplot** class from Matplotlib provides a helpful plot function to show this density."
      ],
      "metadata": {}
    },
    {
      "cell_type": "code",
      "source": [
        "def show_density(var_data):\n",
        "    from matplotlib import pyplot as plt\n",
        "\n",
        "    fig = plt.figure(figsize=(10,4))\n",
        "\n",
        "    # Plot density\n",
        "    var_data.plot.density()\n",
        "\n",
        "    # Add titles and labels\n",
        "    plt.title('Data Density')\n",
        "\n",
        "    # Show the mean, median, and mode\n",
        "    plt.axvline(x=var_data.mean(), color = 'cyan', linestyle='dashed', linewidth = 2)\n",
        "    plt.axvline(x=var_data.median(), color = 'red', linestyle='dashed', linewidth = 2)\n",
        "    plt.axvline(x=var_data.mode()[0], color = 'yellow', linestyle='dashed', linewidth = 2)\n",
        "\n",
        "    # Show the figure\n",
        "    plt.show()\n",
        "\n",
        "# Get the density of Grade\n",
        "col = df_students['Grade']\n",
        "show_density(col)"
      ],
      "outputs": [],
      "execution_count": null,
      "metadata": {}
    },
    {
      "cell_type": "markdown",
      "source": [
        "As expected from the histogram of the sample, the density shows the characteristic \"bell curve\" of what statisticians call a *normal* distribution with the mean and mode at the center and symmetric tails.\n",
        "\n",
        "## Summary\n",
        "\n",
        "Well done! There were a number of new concepts in here, so let's summarize. \n",
        "\n",
        "Here we have:\n",
        "\n",
        "1. Made graphs with Matplotlib.\n",
        "2. Seen how to customize these graphs.\n",
        "3. Calculated basic statistics, such as medians.\n",
        "4. Looked at the spread of data using box plots and histograms.\n",
        "5. Learned about samples versus populations.\n",
        "6. Estimated what the population of grades might look like from a sample of grades.\n",
        "\n",
        "In our next notebook, we'll look at spotting unusual data and finding relationships between data.\n",
        "\n",
        "## Further Reading\n",
        "\n",
        "To learn more about the Python packages you explored in this notebook, see the following documentation:\n",
        "\n",
        "- [NumPy](https://numpy.org/doc/stable/)\n",
        "- [Pandas](https://pandas.pydata.org/pandas-docs/stable/)\n",
        "- [Matplotlib](https://matplotlib.org/contents.html)"
      ],
      "metadata": {}
    }
  ],
  "metadata": {
    "kernel_info": {
      "name": "conda-env-azureml_py38-py"
    },
    "kernelspec": {
      "name": "conda-env-azureml_py38-py",
      "language": "python",
      "display_name": "azureml_py38"
    },
    "language_info": {
      "name": "python",
      "version": "3.8.5",
      "mimetype": "text/x-python",
      "codemirror_mode": {
        "name": "ipython",
        "version": 3
      },
      "pygments_lexer": "ipython3",
      "nbconvert_exporter": "python",
      "file_extension": ".py"
    },
    "nteract": {
      "version": "nteract-front-end@1.0.0"
    }
  },
  "nbformat": 4,
  "nbformat_minor": 2
}