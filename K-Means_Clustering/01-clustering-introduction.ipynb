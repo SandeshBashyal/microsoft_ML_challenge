{
  "cells": [
    {
      "cell_type": "markdown",
      "source": [
        "# Clustering - Introduction\n",
        "\n",
        "In contrast to *supervised* machine learning, *unsupervised* learning is used when there is no \"ground truth\" from which to train and validate label predictions. The most common form of unsupervised learning is *clustering*, which is similar conceptually to *classification*, except that the the training data does not include known values for the class label to be predicted. Clustering works by separating the training cases based on similarities that can be determined from their feature values. Think of it this way; the numeric features of a given entity can be thought of as vector coordinates that define the entity's position in n-dimensional space. What a clustering model seeks to do is to identify groups, or *clusters*, of entities that are close to one another while being separated from other clusters.\n",
        "\n",
        "For example, let's take a look at a dataset that contains measurements of different species of wheat seed.\n",
        "\n",
        "> **Citation**: The seeds dataset used in the this exercise was originally published by the Institute of Agrophysics of the Polish Academy of Sciences in Lublin, and can be downloaded from the UCI dataset repository (Dua, D. and Graff, C. (2019). UCI Machine Learning Repository [http://archive.ics.uci.edu/ml]. Irvine, CA: University of California, School of Information and Computer Science)."
      ],
      "metadata": {}
    },
    {
      "cell_type": "code",
      "source": [
        "import pandas as pd\n",
        "\n",
        "# load the training dataset\n",
        "!wget https://raw.githubusercontent.com/MicrosoftDocs/mslearn-introduction-to-machine-learning/main/Data/ml-basics/seeds.csv\n",
        "data = pd.read_csv('seeds.csv')\n",
        "\n",
        "# Display a random sample of 10 observations (just the features)\n",
        "features = data[data.columns[0:6]]\n",
        "features.sample(10)"
      ],
      "outputs": [
        {
          "output_type": "stream",
          "name": "stdout",
          "text": "--2023-08-01 07:03:22--  https://raw.githubusercontent.com/MicrosoftDocs/mslearn-introduction-to-machine-learning/main/Data/ml-basics/seeds.csv\r\nResolving raw.githubusercontent.com (raw.githubusercontent.com)... 185.199.110.133, 185.199.111.133, 185.199.108.133, ...\r\nConnecting to raw.githubusercontent.com (raw.githubusercontent.com)|185.199.110.133|:443... connected.\r\nHTTP request sent, awaiting response... 200 OK\r\nLength: 9386 (9.2K) [text/plain]\r\nSaving to: ‘seeds.csv’\r\n\r\n\rseeds.csv             0%[                    ]       0  --.-KB/s               \rseeds.csv           100%[===================>]   9.17K  --.-KB/s    in 0s      \r\n\r\n2023-08-01 07:03:22 (48.4 MB/s) - ‘seeds.csv’ saved [9386/9386]\r\n\r\n"
        },
        {
          "output_type": "execute_result",
          "execution_count": 1,
          "data": {
            "text/plain": "      area  perimeter  compactness  kernel_length  kernel_width  \\\n149  10.79      12.93       0.8107          5.317         2.648   \n47   14.99      14.56       0.8883          5.570         3.377   \n53   14.33      14.28       0.8831          5.504         3.199   \n76   17.32      15.91       0.8599          6.064         3.403   \n195  12.80      13.47       0.8860          5.160         3.126   \n137  15.57      15.15       0.8527          5.920         3.231   \n208  11.84      13.21       0.8521          5.175         2.836   \n169  11.24      13.00       0.8359          5.090         2.715   \n65   12.88      13.50       0.8879          5.139         3.119   \n3    13.84      13.94       0.8955          5.324         3.379   \n\n     asymmetry_coefficient  \n149                  5.462  \n47                   2.958  \n53                   3.328  \n76                   3.824  \n195                  4.873  \n137                  2.640  \n208                  3.598  \n169                  3.521  \n65                   2.352  \n3                    2.259  ",
            "text/html": "<div>\n<style scoped>\n    .dataframe tbody tr th:only-of-type {\n        vertical-align: middle;\n    }\n\n    .dataframe tbody tr th {\n        vertical-align: top;\n    }\n\n    .dataframe thead th {\n        text-align: right;\n    }\n</style>\n<table border=\"1\" class=\"dataframe\">\n  <thead>\n    <tr style=\"text-align: right;\">\n      <th></th>\n      <th>area</th>\n      <th>perimeter</th>\n      <th>compactness</th>\n      <th>kernel_length</th>\n      <th>kernel_width</th>\n      <th>asymmetry_coefficient</th>\n    </tr>\n  </thead>\n  <tbody>\n    <tr>\n      <th>149</th>\n      <td>10.79</td>\n      <td>12.93</td>\n      <td>0.8107</td>\n      <td>5.317</td>\n      <td>2.648</td>\n      <td>5.462</td>\n    </tr>\n    <tr>\n      <th>47</th>\n      <td>14.99</td>\n      <td>14.56</td>\n      <td>0.8883</td>\n      <td>5.570</td>\n      <td>3.377</td>\n      <td>2.958</td>\n    </tr>\n    <tr>\n      <th>53</th>\n      <td>14.33</td>\n      <td>14.28</td>\n      <td>0.8831</td>\n      <td>5.504</td>\n      <td>3.199</td>\n      <td>3.328</td>\n    </tr>\n    <tr>\n      <th>76</th>\n      <td>17.32</td>\n      <td>15.91</td>\n      <td>0.8599</td>\n      <td>6.064</td>\n      <td>3.403</td>\n      <td>3.824</td>\n    </tr>\n    <tr>\n      <th>195</th>\n      <td>12.80</td>\n      <td>13.47</td>\n      <td>0.8860</td>\n      <td>5.160</td>\n      <td>3.126</td>\n      <td>4.873</td>\n    </tr>\n    <tr>\n      <th>137</th>\n      <td>15.57</td>\n      <td>15.15</td>\n      <td>0.8527</td>\n      <td>5.920</td>\n      <td>3.231</td>\n      <td>2.640</td>\n    </tr>\n    <tr>\n      <th>208</th>\n      <td>11.84</td>\n      <td>13.21</td>\n      <td>0.8521</td>\n      <td>5.175</td>\n      <td>2.836</td>\n      <td>3.598</td>\n    </tr>\n    <tr>\n      <th>169</th>\n      <td>11.24</td>\n      <td>13.00</td>\n      <td>0.8359</td>\n      <td>5.090</td>\n      <td>2.715</td>\n      <td>3.521</td>\n    </tr>\n    <tr>\n      <th>65</th>\n      <td>12.88</td>\n      <td>13.50</td>\n      <td>0.8879</td>\n      <td>5.139</td>\n      <td>3.119</td>\n      <td>2.352</td>\n    </tr>\n    <tr>\n      <th>3</th>\n      <td>13.84</td>\n      <td>13.94</td>\n      <td>0.8955</td>\n      <td>5.324</td>\n      <td>3.379</td>\n      <td>2.259</td>\n    </tr>\n  </tbody>\n</table>\n</div>"
          },
          "metadata": {}
        }
      ],
      "execution_count": 1,
      "metadata": {}
    },
    {
      "cell_type": "markdown",
      "source": [
        "As you can see, the dataset contains six data points (or *features*) for each instance (*observation*) of a seed. So you could interpret these as coordinates that describe each instance's location in six-dimensional space.\n",
        "\n",
        "Now, of course six-dimensional space is difficult to visualise in a three-dimensional world, or on a two-dimensional plot; so we'll take advantage of a mathematical technique called *Principal Component Analysis* (PCA) to analyze the relationships between the features and summarize each observation as coordinates for two principal components - in other words, we'll translate the six-dimensional feature values into two-dimensional coordinates."
      ],
      "metadata": {}
    },
    {
      "cell_type": "code",
      "source": [
        "from sklearn.preprocessing import MinMaxScaler\n",
        "from sklearn.decomposition import PCA\n",
        "\n",
        "# Normalize the numeric features so they're on the same scale\n",
        "scaled_features = MinMaxScaler().fit_transform(features[data.columns[0:6]])\n",
        "\n",
        "# Get two principal components\n",
        "pca = PCA(n_components=2).fit(scaled_features)\n",
        "features_2d = pca.transform(scaled_features)\n",
        "features_2d[0:10]"
      ],
      "outputs": [
        {
          "output_type": "stream",
          "name": "stderr",
          "text": "/anaconda/envs/py38_default/lib/python3.8/site-packages/scipy/__init__.py:146: UserWarning: A NumPy version >=1.16.5 and <1.23.0 is required for this version of SciPy (detected version 1.23.3\n  warnings.warn(f\"A NumPy version >={np_minversion} and <{np_maxversion}\"\n"
        },
        {
          "output_type": "execute_result",
          "execution_count": 2,
          "data": {
            "text/plain": "array([[ 0.11883593, -0.09382469],\n       [ 0.0696878 , -0.31077233],\n       [-0.03499184, -0.37044705],\n       [-0.06582089, -0.36365235],\n       [ 0.32594892, -0.37695797],\n       [-0.02455447, -0.31060184],\n       [-0.00769646, -0.07594931],\n       [-0.05646955, -0.26696284],\n       [ 0.38196305, -0.05149471],\n       [ 0.35701044, -0.17697998]])"
          },
          "metadata": {}
        }
      ],
      "execution_count": 2,
      "metadata": {}
    },
    {
      "cell_type": "markdown",
      "source": [
        "Now that we have the data points translated to two dimensions, we can visualize them in a plot:"
      ],
      "metadata": {}
    },
    {
      "cell_type": "code",
      "source": [
        "import matplotlib.pyplot as plt\n",
        "\n",
        "%matplotlib inline\n",
        "\n",
        "plt.scatter(features_2d[:,0],features_2d[:,1])\n",
        "plt.xlabel('Dimension 1')\n",
        "plt.ylabel('Dimension 2')\n",
        "plt.title('Data')\n",
        "plt.show()"
      ],
      "outputs": [],
      "execution_count": 3,
      "metadata": {}
    },
    {
      "cell_type": "markdown",
      "source": [
        "Hopefully you can see at least two, arguably three, reasonably distinct groups of data points; but here lies one of the fundamental problems with clustering - without known class labels, how do you know how many clusters to separate your data into?\n",
        "\n",
        "One way we can try to find out is to use a data sample to create a series of clustering models with an incrementing number of clusters, and measure how tightly the data points are grouped within each cluster. A metric often used to measure this tightness is the *within cluster sum of squares* (WCSS), with lower values meaning that the data points are closer. You can then plot the WCSS for each model."
      ],
      "metadata": {}
    },
    {
      "cell_type": "code",
      "source": [
        "#importing the libraries\n",
        "import numpy as np\n",
        "import matplotlib.pyplot as plt\n",
        "from sklearn.cluster import KMeans\n",
        "%matplotlib inline\n",
        "\n",
        "# Create 10 models with 1 to 10 clusters\n",
        "wcss = []\n",
        "for i in range(1, 11):\n",
        "    kmeans = KMeans(n_clusters = i)\n",
        "    # Fit the data points\n",
        "    kmeans.fit(features.values)\n",
        "    # Get the WCSS (inertia) value\n",
        "    wcss.append(kmeans.inertia_)\n",
        "    \n",
        "#Plot the WCSS values onto a line graph\n",
        "plt.plot(range(1, 11), wcss)\n",
        "plt.title('WCSS by Clusters')\n",
        "plt.xlabel('Number of clusters')\n",
        "plt.ylabel('WCSS')\n",
        "plt.show()"
      ],
      "outputs": [],
      "execution_count": null,
      "metadata": {}
    },
    {
      "cell_type": "markdown",
      "source": [
        "The plot shows a large reduction in WCSS (so greater *tightness*) as the number of clusters increases from one to two, and a further noticable reduction from two to three clusters. After that, the reduction is less pronounced, resulting in an \"elbow\" in the chart at around three clusters. This is a good indication that there are two to three reasonably well separated clusters of data points.\n",
        "\n",
        "## Summary\n",
        "\n",
        "Here we looked at what clustering means, and how to determine whether clustering might be appropriate for your data. In the next notebook, we will look at two ways of \n",
        "labelling the data automatically."
      ],
      "metadata": {}
    }
  ],
  "metadata": {
    "kernel_info": {
      "name": "conda-env-py38_default-py"
    },
    "kernelspec": {
      "name": "conda-env-py38_default-py",
      "language": "python",
      "display_name": "py38_default"
    },
    "language_info": {
      "name": "python",
      "version": "3.8.13",
      "mimetype": "text/x-python",
      "codemirror_mode": {
        "name": "ipython",
        "version": 3
      },
      "pygments_lexer": "ipython3",
      "nbconvert_exporter": "python",
      "file_extension": ".py"
    },
    "nteract": {
      "version": "nteract-front-end@1.0.0"
    }
  },
  "nbformat": 4,
  "nbformat_minor": 2
}