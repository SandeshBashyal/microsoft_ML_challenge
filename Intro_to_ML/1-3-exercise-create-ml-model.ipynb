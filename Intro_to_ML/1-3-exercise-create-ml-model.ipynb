{
  "cells": [
    {
      "cell_type": "markdown",
      "source": [
        "# Exercise: Train and Run Your First Model\n",
        "\n",
        "We've learned that models are computer code that processes information to make a prediction or a decision. Here, we'll train a model to guess a comfortable boot size for a dog, based on the size of the harness that fits them.\n",
        "\n",
        "In the examples below, there is no need to edit any code. Try to read it, understand it, then press the run button to run it. As always with these notebooks, it is vitally important that these code blocks are run in the correct order, and nothing is missed.\n",
        "\n",
        "> **Note**: If you've never used the Jupyter Notebooks environment before, there are a few things you should be aware of:\n",
        "> \n",
        "> - Notebooks are made up of *cells*. Some cells (like this one) contain *markdown* text, while others (like the one beneath this one) contain code.\n",
        "> - You can run each code cell by using the **&#9658; Run** button. the **&#9658; Run** button will show up when you hover over the cell.\n",
        "> - The output from each code cell will be displayed immediately below the cell.\n",
        "> - Even though the code cells can be run individually, some variables used in the code are global to the notebook. That means that you should run all of the code cells <u>**in order**</u>. There may be dependencies between code cells, so if you skip a cell, subsequent cells might not run correctly.\n",
        "\n",
        "## Preparing data\n",
        "\n",
        "The first thing we do with a model is load data. We'll cover this in more detail in a later exercise. For now, we'll just write our data directly in our code. Review and run the following code to get started:\n"
      ],
      "metadata": {}
    },
    {
      "cell_type": "code",
      "source": [
        "import pandas\n",
        "!wget https://raw.githubusercontent.com/MicrosoftDocs/mslearn-introduction-to-machine-learning/main/graphing.py\n",
        "!wget https://raw.githubusercontent.com/MicrosoftDocs/mslearn-introduction-to-machine-learning/main/Data/doggy-boot-harness.csv\n",
        "!pip install statsmodels\n",
        "\n",
        "\n",
        "# Make a dictionary of data for boot sizes\n",
        "# and harness size in cm\n",
        "data = {\n",
        "    'boot_size' : [ 39, 38, 37, 39, 38, 35, 37, 36, 35, 40, \n",
        "                    40, 36, 38, 39, 42, 42, 36, 36, 35, 41, \n",
        "                    42, 38, 37, 35, 40, 36, 35, 39, 41, 37, \n",
        "                    35, 41, 39, 41, 42, 42, 36, 37, 37, 39,\n",
        "                    42, 35, 36, 41, 41, 41, 39, 39, 35, 39\n",
        " ],\n",
        "    'harness_size': [ 58, 58, 52, 58, 57, 52, 55, 53, 49, 54,\n",
        "                59, 56, 53, 58, 57, 58, 56, 51, 50, 59,\n",
        "                59, 59, 55, 50, 55, 52, 53, 54, 61, 56,\n",
        "                55, 60, 57, 56, 61, 58, 53, 57, 57, 55,\n",
        "                60, 51, 52, 56, 55, 57, 58, 57, 51, 59\n",
        "                ]\n",
        "}\n",
        "\n",
        "# Convert it into a table using pandas\n",
        "dataset = pandas.DataFrame(data)\n",
        "\n",
        "# Print the data\n",
        "# In normal python we would write\n",
        "# print(dataset)\n",
        "# but in Jupyter notebooks, if we simple write the name\n",
        "# of the variable and it is printed nicely \n",
        "dataset"
      ],
      "outputs": [
        {
          "output_type": "stream",
          "name": "stdout",
          "text": "--2023-08-01 06:47:02--  https://raw.githubusercontent.com/MicrosoftDocs/mslearn-introduction-to-machine-learning/main/graphing.py\nResolving raw.githubusercontent.com (raw.githubusercontent.com)... 185.199.108.133, 185.199.109.133, 185.199.110.133, ...\nConnecting to raw.githubusercontent.com (raw.githubusercontent.com)|185.199.108.133|:443... connected.\nHTTP request sent, awaiting response... 200 OK\nLength: 21511 (21K) [text/plain]\nSaving to: ‘graphing.py’\n\ngraphing.py         100%[===================>]  21.01K  --.-KB/s    in 0.001s  \n\n2023-08-01 06:47:02 (27.1 MB/s) - ‘graphing.py’ saved [21511/21511]\n\n--2023-08-01 06:47:04--  https://raw.githubusercontent.com/MicrosoftDocs/mslearn-introduction-to-machine-learning/main/Data/doggy-boot-harness.csv\nResolving raw.githubusercontent.com (raw.githubusercontent.com)... 185.199.111.133, 185.199.110.133, 185.199.109.133, ...\nConnecting to raw.githubusercontent.com (raw.githubusercontent.com)|185.199.111.133|:443... connected.\nHTTP request sent, awaiting response... 200 OK\nLength: 838 [text/plain]\nSaving to: ‘doggy-boot-harness.csv’\n\ndoggy-boot-harness. 100%[===================>]     838  --.-KB/s    in 0s      \n\n2023-08-01 06:47:04 (9.68 MB/s) - ‘doggy-boot-harness.csv’ saved [838/838]\n\nRequirement already satisfied: statsmodels in /anaconda/envs/azureml_py38/lib/python3.8/site-packages (0.11.0)\nRequirement already satisfied: scipy>=1.0 in /anaconda/envs/azureml_py38/lib/python3.8/site-packages (from statsmodels) (1.5.3)\nRequirement already satisfied: numpy>=1.14 in /anaconda/envs/azureml_py38/lib/python3.8/site-packages (from statsmodels) (1.21.6)\nRequirement already satisfied: pandas>=0.21 in /anaconda/envs/azureml_py38/lib/python3.8/site-packages (from statsmodels) (1.1.5)\nRequirement already satisfied: patsy>=0.5 in /anaconda/envs/azureml_py38/lib/python3.8/site-packages (from statsmodels) (0.5.2)\nRequirement already satisfied: python-dateutil>=2.7.3 in /anaconda/envs/azureml_py38/lib/python3.8/site-packages (from pandas>=0.21->statsmodels) (2.8.2)\nRequirement already satisfied: pytz>=2017.2 in /anaconda/envs/azureml_py38/lib/python3.8/site-packages (from pandas>=0.21->statsmodels) (2022.1)\nRequirement already satisfied: six in /anaconda/envs/azureml_py38/lib/python3.8/site-packages (from patsy>=0.5->statsmodels) (1.16.0)\n"
        }
      ],
      "execution_count": 1,
      "metadata": {}
    },
    {
      "cell_type": "markdown",
      "source": [
        "As you can see, we have the sizes of boots and harnesses for 50 avalanche dogs.\n",
        "\n",
        "We want to use harness size to estimate boot size. This means `harness_size` is our _input_. We want a model that will process the input and make its own estimations of the boot size (output).  \n",
        "\n",
        "## Select a model\n",
        "\n",
        "The first thing we must do is select a model. We're just getting started, so we'll start with a very simple model called _OLS_. This is just a straight line (sometimes called a trendline).\n",
        "\n",
        "Let's use an existing library to create our model, but we won't train it yet."
      ],
      "metadata": {}
    },
    {
      "cell_type": "code",
      "source": [
        "# Load a library to do the hard work for us\n",
        "import statsmodels.formula.api as smf\n",
        "\n",
        "# First, we define our formula using a special syntax\n",
        "# This says that boot_size is explained by harness_size\n",
        "formula = \"boot_size ~ harness_size\"\n",
        "\n",
        "# Create the model, but don't train it yet\n",
        "model = smf.ols(formula = formula, data = dataset)\n",
        "\n",
        "# Note that we have created our model but it does not \n",
        "# have internal parameters set yet\n",
        "if not hasattr(model, 'params'):\n",
        "    print(\"Model selected but it does not have parameters set. We need to train it!\")"
      ],
      "outputs": [],
      "execution_count": null,
      "metadata": {}
    },
    {
      "cell_type": "markdown",
      "source": [
        "## Train our model\n",
        "\n",
        "OLS models have two parameters (a slope and an offset), but these haven't been set in our model yet. We need to _train_ (_fit_) our model to find these values so that the model can reliably estimate dogs' boot size based on their harness size. \n",
        "\n",
        "The following code fits our model to data you've now seen:"
      ],
      "metadata": {}
    },
    {
      "cell_type": "code",
      "source": [
        "# Load some libraries to do the hard work for us\n",
        "import graphing \n",
        "\n",
        "# Train (fit) the model so that it creates a line that \n",
        "# fits our data. This method does the hard work for\n",
        "# us. We will look at how this method works in a later unit.\n",
        "fitted_model = model.fit()\n",
        "\n",
        "# Print information about our model now it has been fit\n",
        "print(\"The following model parameters have been found:\\n\" +\n",
        "        f\"Line slope: {fitted_model.params[1]}\\n\"+\n",
        "        f\"Line Intercept: {fitted_model.params[0]}\")"
      ],
      "outputs": [],
      "execution_count": null,
      "metadata": {}
    },
    {
      "cell_type": "markdown",
      "source": [
        "Notice how training the model set its parameters. We could interpret these directly, but it's simpler to see it as a graph:\n"
      ],
      "metadata": {}
    },
    {
      "cell_type": "code",
      "source": [
        "import graphing\n",
        "\n",
        "# Show a graph of the result\n",
        "# Don't worry about how this works for now\n",
        "graphing.scatter_2D(dataset,    label_x=\"harness_size\", \n",
        "                                label_y=\"boot_size\",\n",
        "                                trendline=lambda x: fitted_model.params[1] * x + fitted_model.params[0]\n",
        "                                )"
      ],
      "outputs": [],
      "execution_count": null,
      "metadata": {}
    },
    {
      "cell_type": "markdown",
      "source": [
        "\n",
        "The graph above shows our original data as circles with a red line through it. The red line shows our _model_.\n",
        "\n",
        "We can look at this line to understand our model. For example, we can see that as harness size increases, so will the estimated boot size. \n",
        "\n",
        "## Use the model\n",
        "\n",
        "Now that we've finished training, we can use our model to predict a dog's boot size from their harness size. \n",
        "\n",
        "For example, by looking at the red line, we can see that that a harness size of `52.5` (x axis) corresponds to a boot size of about `36.5` (y axis).\n",
        "\n",
        "We don't have to do this by eye though. We can use the model in our program to predict any boot size we like. Run the following code to see how we can use our model now that it's trained:"
      ],
      "metadata": {}
    },
    {
      "cell_type": "code",
      "source": [
        "# harness_size states the size of the harness we are interested in\n",
        "harness_size = { 'harness_size' : [52.5] }\n",
        "\n",
        "# Use the model to predict what size of boots the dog will fit\n",
        "approximate_boot_size = fitted_model.predict(harness_size)\n",
        "\n",
        "# Print the result\n",
        "print(\"Estimated approximate_boot_size:\")\n",
        "print(approximate_boot_size[0])"
      ],
      "outputs": [],
      "execution_count": null,
      "metadata": {}
    },
    {
      "cell_type": "markdown",
      "source": [
        "If you'd like, change the value of `52.5` in `harness_size` to a new value and run the block above to see the model in action.\n",
        "\n",
        "## Summary\n",
        "\n",
        "Well done! You've trained your first model. We've demonstrated some topics here without detailed explanation in order to just get your feet wet. In later units, we'll explain many of these topics in more detail."
      ],
      "metadata": {}
    }
  ],
  "metadata": {
    "kernel_info": {
      "name": "conda-env-azureml_py38-py"
    },
    "kernelspec": {
      "name": "conda-env-azureml_py38-py",
      "language": "python",
      "display_name": "azureml_py38"
    },
    "language_info": {
      "name": "python",
      "version": "3.8.5",
      "mimetype": "text/x-python",
      "codemirror_mode": {
        "name": "ipython",
        "version": 3
      },
      "pygments_lexer": "ipython3",
      "nbconvert_exporter": "python",
      "file_extension": ".py"
    },
    "nteract": {
      "version": "nteract-front-end@1.0.0"
    },
    "vscode": {
      "interpreter": {
        "hash": "a37ce726955f861ad985e24f491a7d4570ded8b04c821c5d458f1004f8f04750"
      }
    }
  },
  "nbformat": 4,
  "nbformat_minor": 2
}